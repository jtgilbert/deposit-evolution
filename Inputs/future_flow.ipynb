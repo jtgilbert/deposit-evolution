{
 "cells": [
  {
   "cell_type": "code",
   "execution_count": 1,
   "id": "3413cbea-3f25-44a5-9e65-b682ed2ce199",
   "metadata": {},
   "outputs": [],
   "source": [
    "import pandas as pd\n",
    "import numpy as np\n",
    "import datetime"
   ]
  },
  {
   "cell_type": "code",
   "execution_count": 2,
   "id": "23224ba6-9c34-46cf-af62-8713d6a64855",
   "metadata": {},
   "outputs": [],
   "source": [
    "df = pd.read_csv('Woods_Q_2012_2019_1hr.csv')"
   ]
  },
  {
   "cell_type": "code",
   "execution_count": 3,
   "id": "db632061-26d1-4586-84a2-0cf4d83862bb",
   "metadata": {},
   "outputs": [
    {
     "data": {
      "text/html": [
       "<div>\n",
       "<style scoped>\n",
       "    .dataframe tbody tr th:only-of-type {\n",
       "        vertical-align: middle;\n",
       "    }\n",
       "\n",
       "    .dataframe tbody tr th {\n",
       "        vertical-align: top;\n",
       "    }\n",
       "\n",
       "    .dataframe thead th {\n",
       "        text-align: right;\n",
       "    }\n",
       "</style>\n",
       "<table border=\"1\" class=\"dataframe\">\n",
       "  <thead>\n",
       "    <tr style=\"text-align: right;\">\n",
       "      <th></th>\n",
       "      <th>Unnamed: 0</th>\n",
       "      <th>Datetime</th>\n",
       "      <th>Q</th>\n",
       "    </tr>\n",
       "  </thead>\n",
       "  <tbody>\n",
       "    <tr>\n",
       "      <th>0</th>\n",
       "      <td>0</td>\n",
       "      <td>2012-04-01 00:00</td>\n",
       "      <td>0.540090</td>\n",
       "    </tr>\n",
       "    <tr>\n",
       "      <th>1</th>\n",
       "      <td>1</td>\n",
       "      <td>2012-04-01 01:00</td>\n",
       "      <td>0.559448</td>\n",
       "    </tr>\n",
       "    <tr>\n",
       "      <th>2</th>\n",
       "      <td>2</td>\n",
       "      <td>2012-04-01 02:00</td>\n",
       "      <td>0.580325</td>\n",
       "    </tr>\n",
       "    <tr>\n",
       "      <th>3</th>\n",
       "      <td>3</td>\n",
       "      <td>2012-04-01 03:00</td>\n",
       "      <td>0.592907</td>\n",
       "    </tr>\n",
       "    <tr>\n",
       "      <th>4</th>\n",
       "      <td>4</td>\n",
       "      <td>2012-04-01 04:00</td>\n",
       "      <td>0.602730</td>\n",
       "    </tr>\n",
       "    <tr>\n",
       "      <th>...</th>\n",
       "      <td>...</td>\n",
       "      <td>...</td>\n",
       "      <td>...</td>\n",
       "    </tr>\n",
       "    <tr>\n",
       "      <th>23418</th>\n",
       "      <td>23418</td>\n",
       "      <td>2019-07-31 18:00</td>\n",
       "      <td>0.214763</td>\n",
       "    </tr>\n",
       "    <tr>\n",
       "      <th>23419</th>\n",
       "      <td>23419</td>\n",
       "      <td>2019-07-31 19:00</td>\n",
       "      <td>0.214763</td>\n",
       "    </tr>\n",
       "    <tr>\n",
       "      <th>23420</th>\n",
       "      <td>23420</td>\n",
       "      <td>2019-07-31 20:00</td>\n",
       "      <td>0.213355</td>\n",
       "    </tr>\n",
       "    <tr>\n",
       "      <th>23421</th>\n",
       "      <td>23421</td>\n",
       "      <td>2019-07-31 21:00</td>\n",
       "      <td>0.211947</td>\n",
       "    </tr>\n",
       "    <tr>\n",
       "      <th>23422</th>\n",
       "      <td>23422</td>\n",
       "      <td>2019-07-31 22:00</td>\n",
       "      <td>0.211947</td>\n",
       "    </tr>\n",
       "  </tbody>\n",
       "</table>\n",
       "<p>23423 rows × 3 columns</p>\n",
       "</div>"
      ],
      "text/plain": [
       "       Unnamed: 0          Datetime         Q\n",
       "0               0  2012-04-01 00:00  0.540090\n",
       "1               1  2012-04-01 01:00  0.559448\n",
       "2               2  2012-04-01 02:00  0.580325\n",
       "3               3  2012-04-01 03:00  0.592907\n",
       "4               4  2012-04-01 04:00  0.602730\n",
       "...           ...               ...       ...\n",
       "23418       23418  2019-07-31 18:00  0.214763\n",
       "23419       23419  2019-07-31 19:00  0.214763\n",
       "23420       23420  2019-07-31 20:00  0.213355\n",
       "23421       23421  2019-07-31 21:00  0.211947\n",
       "23422       23422  2019-07-31 22:00  0.211947\n",
       "\n",
       "[23423 rows x 3 columns]"
      ]
     },
     "execution_count": 3,
     "metadata": {},
     "output_type": "execute_result"
    }
   ],
   "source": [
    "df"
   ]
  },
  {
   "cell_type": "code",
   "execution_count": 4,
   "id": "e7ccb87e-866f-44c1-8e7c-2dab484b4be3",
   "metadata": {},
   "outputs": [],
   "source": [
    "year_change = {'2012': '2030', '2013': '2031', '2014': '2032', '2015': '2033', '2016': '2034', '2017': '2035', '2018': '2036', '2019': '2037'}"
   ]
  },
  {
   "cell_type": "code",
   "execution_count": 5,
   "id": "14fc7ede-f550-43ee-92ce-420d1b59c996",
   "metadata": {},
   "outputs": [],
   "source": [
    "dts = []\n",
    "flows = []\n",
    "for i in df.index:\n",
    "    if '2012' in df.loc[i, 'Datetime']:\n",
    "        dts.append(str(df.loc[i, 'Datetime']).replace('2012', year_change['2012']))\n",
    "        flows.append(df.loc[i, 'Q'])\n",
    "    elif '2013' in df.loc[i, 'Datetime']:\n",
    "        dts.append(str(df.loc[i, 'Datetime']).replace('2013', year_change['2013']))\n",
    "        flows.append(df.loc[i, 'Q'])\n",
    "    elif '2014' in df.loc[i, 'Datetime']:\n",
    "        dts.append(str(df.loc[i, 'Datetime']).replace('2014', year_change['2014']))\n",
    "        flows.append(df.loc[i, 'Q'])\n",
    "    elif '2015' in df.loc[i, 'Datetime']:\n",
    "        dts.append(str(df.loc[i, 'Datetime']).replace('2015', year_change['2015']))\n",
    "        flows.append(df.loc[i, 'Q'])\n",
    "    elif '2016' in df.loc[i, 'Datetime']:\n",
    "        dts.append(str(df.loc[i, 'Datetime']).replace('2016', year_change['2016']))\n",
    "        flows.append(df.loc[i, 'Q'])\n",
    "    elif '2017' in df.loc[i, 'Datetime']:\n",
    "        dts.append(str(df.loc[i, 'Datetime']).replace('2017', year_change['2017']))\n",
    "        flows.append(df.loc[i, 'Q'])\n",
    "    elif '2018' in df.loc[i, 'Datetime']:\n",
    "        dts.append(str(df.loc[i, 'Datetime']).replace('2018', year_change['2018']))\n",
    "        flows.append(df.loc[i, 'Q'])\n",
    "    elif '2019' in df.loc[i, 'Datetime']:\n",
    "        dts.append(str(df.loc[i, 'Datetime']).replace('2019', year_change['2019']))\n",
    "        flows.append(df.loc[i, 'Q'])"
   ]
  },
  {
   "cell_type": "code",
   "execution_count": 6,
   "id": "cf368621-3000-4854-8caf-82786b759858",
   "metadata": {},
   "outputs": [],
   "source": [
    "dfout = pd.DataFrame(data = {'Datetime': pd.to_datetime(dts), 'Q': flows})"
   ]
  },
  {
   "cell_type": "code",
   "execution_count": 7,
   "id": "f3037e1f-49c6-4908-8e97-1f8c1c28ce7f",
   "metadata": {},
   "outputs": [],
   "source": [
    "dfout.to_csv('Woods_Q_1hr_2030_2037.csv')"
   ]
  }
 ],
 "metadata": {
  "kernelspec": {
   "display_name": "Python 3 (ipykernel)",
   "language": "python",
   "name": "python3"
  },
  "language_info": {
   "codemirror_mode": {
    "name": "ipython",
    "version": 3
   },
   "file_extension": ".py",
   "mimetype": "text/x-python",
   "name": "python",
   "nbconvert_exporter": "python",
   "pygments_lexer": "ipython3",
   "version": "3.8.10"
  }
 },
 "nbformat": 4,
 "nbformat_minor": 5
}
